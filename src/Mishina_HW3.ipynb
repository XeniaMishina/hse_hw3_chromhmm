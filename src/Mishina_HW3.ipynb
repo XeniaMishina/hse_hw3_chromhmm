{
  "nbformat": 4,
  "nbformat_minor": 0,
  "metadata": {
    "colab": {
      "provenance": []
    },
    "kernelspec": {
      "name": "python3",
      "display_name": "Python 3"
    },
    "language_info": {
      "name": "python"
    }
  },
  "cells": [
    {
      "cell_type": "markdown",
      "source": [
        "# Устанавливаем java и ChromHmm"
      ],
      "metadata": {
        "id": "vRciyzvPEDLD"
      }
    },
    {
      "cell_type": "code",
      "source": [
        "!curl -O https://raw.githubusercontent.com/deepjavalibrary/d2l-java/master/tools/fix-colab-gpu.sh && bash fix-colab-gpu.sh"
      ],
      "metadata": {
        "colab": {
          "base_uri": "https://localhost:8080/"
        },
        "id": "1O3GJ3Gys7Tm",
        "outputId": "34e1e0af-9fb8-44e3-f42a-929a79b5407f"
      },
      "execution_count": null,
      "outputs": [
        {
          "output_type": "stream",
          "name": "stdout",
          "text": [
            "  % Total    % Received % Xferd  Average Speed   Time    Time     Time  Current\n",
            "                                 Dload  Upload   Total   Spent    Left  Speed\n",
            "\r  0     0    0     0    0     0      0      0 --:--:-- --:--:-- --:--:--     0\r100   155  100   155    0     0    890      0 --:--:-- --:--:-- --:--:--   885\r100   155  100   155    0     0    890      0 --:--:-- --:--:-- --:--:--   885\n",
            "fix-colab-gpu.sh: line 5: nvcc: command not found\n"
          ]
        }
      ]
    },
    {
      "cell_type": "code",
      "execution_count": null,
      "metadata": {
        "colab": {
          "base_uri": "https://localhost:8080/"
        },
        "id": "NxS1Mv5WquOV",
        "outputId": "bb26af6f-e9aa-493c-c492-e1e109263a60"
      },
      "outputs": [
        {
          "output_type": "stream",
          "name": "stdout",
          "text": [
            "  % Total    % Received % Xferd  Average Speed   Time    Time     Time  Current\n",
            "                                 Dload  Upload   Total   Spent    Left  Speed\n",
            "\r  0     0    0     0    0     0      0      0 --:--:-- --:--:-- --:--:--     0\r100   520  100   520    0     0   4262      0 --:--:-- --:--:-- --:--:--  4297\n",
            "Update environment...\n",
            "Install Java...\n",
            "Install Jupyter java kernel...\n"
          ]
        }
      ],
      "source": [
        "!curl -O https://raw.githubusercontent.com/deepjavalibrary/d2l-java/master/tools/colab_build.sh && bash colab_build.sh"
      ]
    },
    {
      "cell_type": "code",
      "source": [
        "!java --list-modules | grep \"jdk.jshell\"\n"
      ],
      "metadata": {
        "colab": {
          "base_uri": "https://localhost:8080/"
        },
        "id": "_NrPS924rQFX",
        "outputId": "02898438-0c37-4a87-9467-84eede854eca"
      },
      "execution_count": null,
      "outputs": [
        {
          "output_type": "stream",
          "name": "stdout",
          "text": [
            "jdk.jshell@11.0.18\n"
          ]
        }
      ]
    },
    {
      "cell_type": "code",
      "source": [
        "! wget http://compbio.mit.edu/ChromHMM/ChromHMM.zip"
      ],
      "metadata": {
        "colab": {
          "base_uri": "https://localhost:8080/"
        },
        "id": "zCdYYvCJrpRt",
        "outputId": "864bbbfc-86fe-442f-f9bf-e6718ccc6793"
      },
      "execution_count": null,
      "outputs": [
        {
          "output_type": "stream",
          "name": "stdout",
          "text": [
            "--2023-04-02 18:16:32--  http://compbio.mit.edu/ChromHMM/ChromHMM.zip\n",
            "Resolving compbio.mit.edu (compbio.mit.edu)... 128.30.2.44\n",
            "Connecting to compbio.mit.edu (compbio.mit.edu)|128.30.2.44|:80... connected.\n",
            "HTTP request sent, awaiting response... 200 OK\n",
            "Length: 48940646 (47M) [application/zip]\n",
            "Saving to: ‘ChromHMM.zip’\n",
            "\n",
            "ChromHMM.zip        100%[===================>]  46.67M  2.98MB/s    in 13s     \n",
            "\n",
            "2023-04-02 18:16:45 (3.53 MB/s) - ‘ChromHMM.zip’ saved [48940646/48940646]\n",
            "\n"
          ]
        }
      ]
    },
    {
      "cell_type": "code",
      "source": [
        "!unzip /content/ChromHMM.zip"
      ],
      "metadata": {
        "id": "gF4uI2bvvEN2",
        "colab": {
          "base_uri": "https://localhost:8080/"
        },
        "outputId": "9b90a1e1-41f3-4db7-a3cc-951d61dc38da"
      },
      "execution_count": null,
      "outputs": [
        {
          "output_type": "stream",
          "name": "stdout",
          "text": [
            "Archive:  /content/ChromHMM.zip\n",
            "   creating: ChromHMM/ANCHORFILES/\n",
            "   creating: ChromHMM/ANCHORFILES/ce10/\n",
            "  inflating: ChromHMM/ANCHORFILES/ce10/RefSeqTES.ce10.txt.gz  \n",
            "  inflating: ChromHMM/ANCHORFILES/ce10/RefSeqTSS.ce10.txt.gz  \n",
            "   creating: ChromHMM/ANCHORFILES/ce11/\n",
            "  inflating: ChromHMM/ANCHORFILES/ce11/RefSeqTES.ce11.txt.gz  \n",
            "  inflating: ChromHMM/ANCHORFILES/ce11/RefSeqTSS.ce11.txt.gz  \n",
            "   creating: ChromHMM/ANCHORFILES/ce6/\n",
            "  inflating: ChromHMM/ANCHORFILES/ce6/RefSeqTES.ce6.txt.gz  \n",
            "  inflating: ChromHMM/ANCHORFILES/ce6/RefSeqTSS.ce6.txt.gz  \n",
            "   creating: ChromHMM/ANCHORFILES/danRer10/\n",
            "  inflating: ChromHMM/ANCHORFILES/danRer10/RefSeqTES.danRer10.txt.gz  \n",
            "  inflating: ChromHMM/ANCHORFILES/danRer10/RefSeqTSS.danRer10.txt.gz  \n",
            "   creating: ChromHMM/ANCHORFILES/danRer11/\n",
            "  inflating: ChromHMM/ANCHORFILES/danRer11/RefSeqTES.danRer11.txt.gz  \n",
            "  inflating: ChromHMM/ANCHORFILES/danRer11/RefSeqTSS.danRer11.txt.gz  \n",
            "   creating: ChromHMM/ANCHORFILES/danRer7/\n",
            "  inflating: ChromHMM/ANCHORFILES/danRer7/RefSeqTES.danRer7.txt.gz  \n",
            "  inflating: ChromHMM/ANCHORFILES/danRer7/RefSeqTSS.danRer7.txt.gz  \n",
            "   creating: ChromHMM/ANCHORFILES/dm3/\n",
            "  inflating: ChromHMM/ANCHORFILES/dm3/RefSeqTES.dm3.txt.gz  \n",
            "  inflating: ChromHMM/ANCHORFILES/dm3/RefSeqTSS.dm3.txt.gz  \n",
            "   creating: ChromHMM/ANCHORFILES/dm6/\n",
            "  inflating: ChromHMM/ANCHORFILES/dm6/RefSeqTES.dm6.txt.gz  \n",
            "  inflating: ChromHMM/ANCHORFILES/dm6/RefSeqTSS.dm6.txt.gz  \n",
            "   creating: ChromHMM/ANCHORFILES/hg18/\n",
            "  inflating: ChromHMM/ANCHORFILES/hg18/RefSeqTES.hg18.txt.gz  \n",
            "  inflating: ChromHMM/ANCHORFILES/hg18/RefSeqTSS.hg18.txt.gz  \n",
            "   creating: ChromHMM/ANCHORFILES/hg19/\n",
            "  inflating: ChromHMM/ANCHORFILES/hg19/RefSeqTES.hg19.txt.gz  \n",
            "  inflating: ChromHMM/ANCHORFILES/hg19/RefSeqTSS.hg19.txt.gz  \n",
            "   creating: ChromHMM/ANCHORFILES/hg38/\n",
            "  inflating: ChromHMM/ANCHORFILES/hg38/RefSeqTES.hg38.txt.gz  \n",
            "  inflating: ChromHMM/ANCHORFILES/hg38/RefSeqTSS.hg38.txt.gz  \n",
            "   creating: ChromHMM/ANCHORFILES/hs1/\n",
            "  inflating: ChromHMM/ANCHORFILES/hs1/RefSeqTES.hs1.txt.gz  \n",
            "  inflating: ChromHMM/ANCHORFILES/hs1/RefSeqTSS.hs1.txt.gz  \n",
            "   creating: ChromHMM/ANCHORFILES/mm10/\n",
            "  inflating: ChromHMM/ANCHORFILES/mm10/RefSeqTES.mm10.txt.gz  \n",
            "  inflating: ChromHMM/ANCHORFILES/mm10/RefSeqTSS.mm10.txt.gz  \n",
            "   creating: ChromHMM/ANCHORFILES/mm39/\n",
            "  inflating: ChromHMM/ANCHORFILES/mm39/RefSeqTES.mm39.txt.gz  \n",
            "  inflating: ChromHMM/ANCHORFILES/mm39/RefSeqTSS.mm39.txt.gz  \n",
            "   creating: ChromHMM/ANCHORFILES/mm9/\n",
            "  inflating: ChromHMM/ANCHORFILES/mm9/RefSeqTES.mm9.txt.gz  \n",
            "  inflating: ChromHMM/ANCHORFILES/mm9/RefSeqTSS.mm9.txt.gz  \n",
            "   creating: ChromHMM/ANCHORFILES/rn5/\n",
            "  inflating: ChromHMM/ANCHORFILES/rn5/RefSeqTES.rn5.txt.gz  \n",
            "  inflating: ChromHMM/ANCHORFILES/rn5/RefSeqTSS.rn5.txt.gz  \n",
            "   creating: ChromHMM/ANCHORFILES/rn6/\n",
            "  inflating: ChromHMM/ANCHORFILES/rn6/RefSeqTES.rn6.txt.gz  \n",
            "  inflating: ChromHMM/ANCHORFILES/rn6/RefSeqTSS.rn6.txt.gz  \n",
            "  inflating: ChromHMM/ChromHMM.jar   \n",
            "  inflating: ChromHMM/ChromHMM_manual.pdf  \n",
            "   creating: ChromHMM/CHROMSIZES/\n",
            "  inflating: ChromHMM/CHROMSIZES/ce10.txt  \n",
            "  inflating: ChromHMM/CHROMSIZES/ce11.txt  \n",
            "  inflating: ChromHMM/CHROMSIZES/ce6.txt  \n",
            "  inflating: ChromHMM/CHROMSIZES/danRer10.txt  \n",
            "  inflating: ChromHMM/CHROMSIZES/danRer11.txt  \n",
            "  inflating: ChromHMM/CHROMSIZES/danRer7.txt  \n",
            "  inflating: ChromHMM/CHROMSIZES/dm3.txt  \n",
            "  inflating: ChromHMM/CHROMSIZES/dm6.txt  \n",
            "  inflating: ChromHMM/CHROMSIZES/hg18.txt  \n",
            "  inflating: ChromHMM/CHROMSIZES/hg19.txt  \n",
            "  inflating: ChromHMM/CHROMSIZES/hg38.txt  \n",
            "  inflating: ChromHMM/CHROMSIZES/hs1.txt  \n",
            "  inflating: ChromHMM/CHROMSIZES/mm10.txt  \n",
            "  inflating: ChromHMM/CHROMSIZES/mm39.txt  \n",
            "  inflating: ChromHMM/CHROMSIZES/mm9.txt  \n",
            "  inflating: ChromHMM/CHROMSIZES/rn5.txt  \n",
            "  inflating: ChromHMM/CHROMSIZES/rn6.txt  \n",
            "   creating: ChromHMM/COORDS/\n",
            "   creating: ChromHMM/COORDS/ce10/\n",
            "  inflating: ChromHMM/COORDS/ce10/RefSeqExon.ce10.bed.gz  \n",
            "  inflating: ChromHMM/COORDS/ce10/RefSeqGene.ce10.bed.gz  \n",
            "  inflating: ChromHMM/COORDS/ce10/RefSeqTES.ce10.bed.gz  \n",
            "  inflating: ChromHMM/COORDS/ce10/RefSeqTSS.ce10.bed.gz  \n",
            "  inflating: ChromHMM/COORDS/ce10/RefSeqTSS2kb.ce10.bed.gz  \n",
            "   creating: ChromHMM/COORDS/ce11/\n",
            "  inflating: ChromHMM/COORDS/ce11/RefSeqExon.ce11.bed.gz  \n",
            "  inflating: ChromHMM/COORDS/ce11/RefSeqGene.ce11.bed.gz  \n",
            "  inflating: ChromHMM/COORDS/ce11/RefSeqTES.ce11.bed.gz  \n",
            "  inflating: ChromHMM/COORDS/ce11/RefSeqTSS.ce11.bed.gz  \n",
            "  inflating: ChromHMM/COORDS/ce11/RefSeqTSS2kb.ce11.bed.gz  \n",
            "   creating: ChromHMM/COORDS/ce6/\n",
            "  inflating: ChromHMM/COORDS/ce6/RefSeqExon.ce6.bed.gz  \n",
            "  inflating: ChromHMM/COORDS/ce6/RefSeqGene.ce6.bed.gz  \n",
            "  inflating: ChromHMM/COORDS/ce6/RefSeqTES.ce6.bed.gz  \n",
            "  inflating: ChromHMM/COORDS/ce6/RefSeqTSS.ce6.bed.gz  \n",
            "  inflating: ChromHMM/COORDS/ce6/RefSeqTSS2kb.ce6.bed.gz  \n",
            "   creating: ChromHMM/COORDS/danRer10/\n",
            "  inflating: ChromHMM/COORDS/danRer10/RefSeqExon.danRer10.bed.gz  \n",
            "  inflating: ChromHMM/COORDS/danRer10/RefSeqGene.danRer10.bed.gz  \n",
            "  inflating: ChromHMM/COORDS/danRer10/RefSeqTES.danRer10.bed.gz  \n",
            "  inflating: ChromHMM/COORDS/danRer10/RefSeqTSS.danRer10.bed.gz  \n",
            "  inflating: ChromHMM/COORDS/danRer10/RefSeqTSS2kb.danRer10.bed.gz  \n",
            "   creating: ChromHMM/COORDS/danRer11/\n",
            "  inflating: ChromHMM/COORDS/danRer11/RefSeqExon.danRer11.bed.gz  \n",
            "  inflating: ChromHMM/COORDS/danRer11/RefSeqGene.danRer11.bed.gz  \n",
            "  inflating: ChromHMM/COORDS/danRer11/RefSeqTES.danRer11.bed.gz  \n",
            "  inflating: ChromHMM/COORDS/danRer11/RefSeqTSS.danRer11.bed.gz  \n",
            "  inflating: ChromHMM/COORDS/danRer11/RefSeqTSS2kb.danRer11.bed.gz  \n",
            "   creating: ChromHMM/COORDS/danRer7/\n",
            "  inflating: ChromHMM/COORDS/danRer7/RefSeqExon.danRer7.bed.gz  \n",
            "  inflating: ChromHMM/COORDS/danRer7/RefSeqGene.danRer7.bed.gz  \n",
            "  inflating: ChromHMM/COORDS/danRer7/RefSeqTES.danRer7.bed.gz  \n",
            "  inflating: ChromHMM/COORDS/danRer7/RefSeqTSS.danRer7.bed.gz  \n",
            "  inflating: ChromHMM/COORDS/danRer7/RefSeqTSS2kb.danRer7.bed.gz  \n",
            "   creating: ChromHMM/COORDS/dm3/\n",
            "  inflating: ChromHMM/COORDS/dm3/RefSeqExon.dm3.bed.gz  \n",
            "  inflating: ChromHMM/COORDS/dm3/RefSeqGene.dm3.bed.gz  \n",
            "  inflating: ChromHMM/COORDS/dm3/RefSeqTES.dm3.bed.gz  \n",
            "  inflating: ChromHMM/COORDS/dm3/RefSeqTSS.dm3.bed.gz  \n",
            "  inflating: ChromHMM/COORDS/dm3/RefSeqTSS2kb.dm3.bed.gz  \n",
            "   creating: ChromHMM/COORDS/dm6/\n",
            "  inflating: ChromHMM/COORDS/dm6/RefSeqExon.dm6.bed.gz  \n",
            "  inflating: ChromHMM/COORDS/dm6/RefSeqGene.dm6.bed.gz  \n",
            "  inflating: ChromHMM/COORDS/dm6/RefSeqTES.dm6.bed.gz  \n",
            "  inflating: ChromHMM/COORDS/dm6/RefSeqTSS.dm6.bed.gz  \n",
            "  inflating: ChromHMM/COORDS/dm6/RefSeqTSS2kb.dm6.bed.gz  \n",
            "   creating: ChromHMM/COORDS/hg18/\n",
            "  inflating: ChromHMM/COORDS/hg18/CpGIsland.hg18.bed.gz  \n",
            " extracting: ChromHMM/COORDS/hg18/laminB1lads.hg18.bed.gz  \n",
            "  inflating: ChromHMM/COORDS/hg18/RefSeqExon.hg18.bed.gz  \n",
            "  inflating: ChromHMM/COORDS/hg18/RefSeqGene.hg18.bed.gz  \n",
            "  inflating: ChromHMM/COORDS/hg18/RefSeqTES.hg18.bed.gz  \n",
            "  inflating: ChromHMM/COORDS/hg18/RefSeqTSS.hg18.bed.gz  \n",
            "  inflating: ChromHMM/COORDS/hg18/RefSeqTSS2kb.hg18.bed.gz  \n",
            "   creating: ChromHMM/COORDS/hg19/\n",
            "  inflating: ChromHMM/COORDS/hg19/CpGIsland.hg19.bed.gz  \n",
            " extracting: ChromHMM/COORDS/hg19/laminB1lads.hg19.bed.gz  \n",
            "  inflating: ChromHMM/COORDS/hg19/RefSeqExon.hg19.bed.gz  \n",
            "  inflating: ChromHMM/COORDS/hg19/RefSeqGene.hg19.bed.gz  \n",
            "  inflating: ChromHMM/COORDS/hg19/RefSeqTES.hg19.bed.gz  \n",
            "  inflating: ChromHMM/COORDS/hg19/RefSeqTSS.hg19.bed.gz  \n",
            "  inflating: ChromHMM/COORDS/hg19/RefSeqTSS2kb.hg19.bed.gz  \n",
            "   creating: ChromHMM/COORDS/hg38/\n",
            "  inflating: ChromHMM/COORDS/hg38/CpGIsland.hg38.bed.gz  \n",
            "  inflating: ChromHMM/COORDS/hg38/RefSeqExon.hg38.bed.gz  \n",
            "  inflating: ChromHMM/COORDS/hg38/RefSeqGene.hg38.bed.gz  \n",
            "  inflating: ChromHMM/COORDS/hg38/RefSeqTES.hg38.bed.gz  \n",
            "  inflating: ChromHMM/COORDS/hg38/RefSeqTSS.hg38.bed.gz  \n",
            "  inflating: ChromHMM/COORDS/hg38/RefSeqTSS2kb.hg38.bed.gz  \n",
            "   creating: ChromHMM/COORDS/hs1/\n",
            "  inflating: ChromHMM/COORDS/hs1/CpGIsland.hs1.bed.gz  \n",
            "  inflating: ChromHMM/COORDS/hs1/RefSeqExon.hs1.bed.gz  \n",
            "  inflating: ChromHMM/COORDS/hs1/RefSeqGene.hs1.bed.gz  \n",
            "  inflating: ChromHMM/COORDS/hs1/RefSeqTES.hs1.bed.gz  \n",
            "  inflating: ChromHMM/COORDS/hs1/RefSeqTSS.hs1.bed.gz  \n",
            "  inflating: ChromHMM/COORDS/hs1/RefSeqTSS2kb.hs1.bed.gz  \n",
            "   creating: ChromHMM/COORDS/mm10/\n",
            "  inflating: ChromHMM/COORDS/mm10/CpGIsland.mm10.bed.gz  \n",
            "  inflating: ChromHMM/COORDS/mm10/RefSeqExon.mm10.bed.gz  \n",
            "  inflating: ChromHMM/COORDS/mm10/RefSeqGene.mm10.bed.gz  \n",
            "  inflating: ChromHMM/COORDS/mm10/RefSeqTES.mm10.bed.gz  \n",
            "  inflating: ChromHMM/COORDS/mm10/RefSeqTSS.mm10.bed.gz  \n",
            "  inflating: ChromHMM/COORDS/mm10/RefSeqTSS2kb.mm10.bed.gz  \n",
            "   creating: ChromHMM/COORDS/mm39/\n",
            "  inflating: ChromHMM/COORDS/mm39/CpGIsland.mm39.bed.gz  \n",
            "  inflating: ChromHMM/COORDS/mm39/RefSeqExon.mm39.bed.gz  \n",
            "  inflating: ChromHMM/COORDS/mm39/RefSeqGene.mm39.bed.gz  \n",
            "  inflating: ChromHMM/COORDS/mm39/RefSeqTES.mm39.bed.gz  \n",
            "  inflating: ChromHMM/COORDS/mm39/RefSeqTSS.mm39.bed.gz  \n",
            "  inflating: ChromHMM/COORDS/mm39/RefSeqTSS2kb.mm39.bed.gz  \n",
            "   creating: ChromHMM/COORDS/mm9/\n",
            "  inflating: ChromHMM/COORDS/mm9/CpGIsland.mm9.bed.gz  \n",
            "  inflating: ChromHMM/COORDS/mm9/RefSeqExon.mm9.bed.gz  \n",
            "  inflating: ChromHMM/COORDS/mm9/RefSeqGene.mm9.bed.gz  \n",
            "  inflating: ChromHMM/COORDS/mm9/RefSeqTES.mm9.bed.gz  \n",
            "  inflating: ChromHMM/COORDS/mm9/RefSeqTSS.mm9.bed.gz  \n",
            "  inflating: ChromHMM/COORDS/mm9/RefSeqTSS2kb.mm9.bed.gz  \n",
            "   creating: ChromHMM/COORDS/rn5/\n",
            "  inflating: ChromHMM/COORDS/rn5/CpGIsland.rn5.bed.gz  \n",
            "  inflating: ChromHMM/COORDS/rn5/RefSeqExon.rn5.bed.gz  \n",
            "  inflating: ChromHMM/COORDS/rn5/RefSeqGene.rn5.bed.gz  \n",
            "  inflating: ChromHMM/COORDS/rn5/RefSeqTES.rn5.bed.gz  \n",
            "  inflating: ChromHMM/COORDS/rn5/RefSeqTSS.rn5.bed.gz  \n",
            "  inflating: ChromHMM/COORDS/rn5/RefSeqTSS2kb.rn5.bed.gz  \n",
            "   creating: ChromHMM/COORDS/rn6/\n",
            "  inflating: ChromHMM/COORDS/rn6/CpGIsland.rn6.bed.gz  \n",
            "  inflating: ChromHMM/COORDS/rn6/RefSeqExon.rn6.bed.gz  \n",
            "  inflating: ChromHMM/COORDS/rn6/RefSeqGene.rn6.bed.gz  \n",
            "  inflating: ChromHMM/COORDS/rn6/RefSeqTES.rn6.bed.gz  \n",
            "  inflating: ChromHMM/COORDS/rn6/RefSeqTSS.rn6.bed.gz  \n",
            "  inflating: ChromHMM/COORDS/rn6/RefSeqTSS2kb.rn6.bed.gz  \n",
            "   creating: ChromHMM/SAMPLEDATA_HG18/\n",
            "  inflating: ChromHMM/SAMPLEDATA_HG18/GM12878_chr11_binary.txt.gz  \n",
            "  inflating: ChromHMM/SAMPLEDATA_HG18/K562_chr11_binary.txt.gz  \n",
            "   creating: ChromHMM/SRC/\n",
            "   creating: ChromHMM/SRC/edu/\n",
            "   creating: ChromHMM/SRC/edu/mit/\n",
            "   creating: ChromHMM/SRC/edu/mit/compbio/\n",
            "   creating: ChromHMM/SRC/edu/mit/compbio/ChromHMM/\n",
            "  inflating: ChromHMM/SRC/edu/mit/compbio/ChromHMM/BrowserOutput.java  \n",
            "  inflating: ChromHMM/SRC/edu/mit/compbio/ChromHMM/ChromHMM.java  \n",
            "  inflating: ChromHMM/SRC/edu/mit/compbio/ChromHMM/ConvertGeneTable.java  \n",
            "  inflating: ChromHMM/SRC/edu/mit/compbio/ChromHMM/NestedEliminateInitialize.java  \n",
            "  inflating: ChromHMM/SRC/edu/mit/compbio/ChromHMM/Preprocessing.java  \n",
            "  inflating: ChromHMM/SRC/edu/mit/compbio/ChromHMM/StateAnalysis.java  \n",
            "  inflating: ChromHMM/SRC/edu/mit/compbio/ChromHMM/Util.java  \n",
            "   creating: ChromHMM/SRC/org/\n",
            "   creating: ChromHMM/SRC/org/tc33/\n",
            "   creating: ChromHMM/SRC/org/tc33/jheatchart/\n",
            "  inflating: ChromHMM/SRC/org/tc33/jheatchart/HeatChart.java  \n",
            "  inflating: ChromHMM/versionlog.txt  \n"
          ]
        }
      ]
    },
    {
      "cell_type": "markdown",
      "source": [
        "## Скачиваем файлы"
      ],
      "metadata": {
        "id": "k80uGrS5quq1"
      }
    },
    {
      "cell_type": "code",
      "source": [
        "# скачиваем 10 разных модификация\n",
        "! wget http://hgdownload.cse.ucsc.edu/goldenPath/hg19/encodeDCC/wgEncodeBroadHistone/wgEncodeBroadHistoneA549H3k27acDex100nmAlnRep1.bam -O H3K27ac.bam\n",
        "\n",
        "! wget http://hgdownload.cse.ucsc.edu/goldenPath/hg19/encodeDCC/wgEncodeBroadHistone/wgEncodeBroadHistoneA549H3k27me3Dex100nmAlnRep1.bam -O H3K27me3.bam\n",
        "\n",
        "! wget http://hgdownload.cse.ucsc.edu/goldenPath/hg19/encodeDCC/wgEncodeBroadHistone/wgEncodeBroadHistoneA549H3k36me3Dex100nmAlnRep1.bam -O H3K36me3.bam\n",
        "\n",
        "! wget http://hgdownload.cse.ucsc.edu/goldenPath/hg19/encodeDCC/wgEncodeBroadHistone/wgEncodeBroadHistoneA549H3k04me1Dex100nmAlnRep1.bam -O H3K04me1.bam\n",
        "\n",
        "! wget http://hgdownload.cse.ucsc.edu/goldenPath/hg19/encodeDCC/wgEncodeBroadHistone/wgEncodeBroadHistoneA549H3k04me2Dex100nmAlnRep1.bam -O H3K04me2.bam\n",
        "\n",
        "! wget http://hgdownload.cse.ucsc.edu/goldenPath/hg19/encodeDCC/wgEncodeBroadHistone/wgEncodeBroadHistoneA549H3k04me3Dex100nmAlnRep1.bam -O H3K04me3.bam\n",
        "\n",
        "! wget http://hgdownload.cse.ucsc.edu/goldenPath/hg19/encodeDCC/wgEncodeBroadHistone/wgEncodeBroadHistoneA549H3k79me2Dex100nmAlnRep1.bam -O H3K79me2.bam\n",
        "\n",
        "! wget http://hgdownload.cse.ucsc.edu/goldenPath/hg19/encodeDCC/wgEncodeBroadHistone/wgEncodeBroadHistoneA549H3k09acEtoh02AlnRep1.bam -O H3K09ac.bam\n",
        "\n",
        "! wget http://hgdownload.cse.ucsc.edu/goldenPath/hg19/encodeDCC/wgEncodeBroadHistone/wgEncodeBroadHistoneA549H3k09me3Etoh02AlnRep1.bam -O H3K09me3.bam\n",
        "\n",
        "! wget http://hgdownload.cse.ucsc.edu/goldenPath/hg19/encodeDCC/wgEncodeBroadHistone/wgEncodeBroadHistoneA549H4k20me1Etoh02AlnRep1.bam -O H4K20me1.bam"
      ],
      "metadata": {
        "id": "PSWbbv8wcFUY",
        "colab": {
          "base_uri": "https://localhost:8080/"
        },
        "outputId": "ec23743e-8c1d-4100-e387-b02d762d9456"
      },
      "execution_count": null,
      "outputs": [
        {
          "output_type": "stream",
          "name": "stdout",
          "text": [
            "--2023-04-02 18:29:15--  http://hgdownload.cse.ucsc.edu/goldenPath/hg19/encodeDCC/wgEncodeBroadHistone/wgEncodeBroadHistoneA549H3k27acDex100nmAlnRep1.bam\n",
            "Resolving hgdownload.cse.ucsc.edu (hgdownload.cse.ucsc.edu)... 128.114.119.163\n",
            "Connecting to hgdownload.cse.ucsc.edu (hgdownload.cse.ucsc.edu)|128.114.119.163|:80... connected.\n",
            "HTTP request sent, awaiting response... 200 OK\n",
            "Length: 1613138298 (1.5G) [application/octet-stream]\n",
            "Saving to: ‘H3K27ac.bam’\n",
            "\n",
            "H3K27ac.bam         100%[===================>]   1.50G  38.9MB/s    in 41s     \n",
            "\n",
            "2023-04-02 18:29:56 (37.6 MB/s) - ‘H3K27ac.bam’ saved [1613138298/1613138298]\n",
            "\n",
            "--2023-04-02 18:29:56--  http://hgdownload.cse.ucsc.edu/goldenPath/hg19/encodeDCC/wgEncodeBroadHistone/wgEncodeBroadHistoneA549H3k27me3Dex100nmAlnRep1.bam\n",
            "Resolving hgdownload.cse.ucsc.edu (hgdownload.cse.ucsc.edu)... 128.114.119.163\n",
            "Connecting to hgdownload.cse.ucsc.edu (hgdownload.cse.ucsc.edu)|128.114.119.163|:80... connected.\n",
            "HTTP request sent, awaiting response... 200 OK\n",
            "Length: 1204886525 (1.1G) [application/octet-stream]\n",
            "Saving to: ‘H3K27me3.bam’\n",
            "\n",
            "H3K27me3.bam        100%[===================>]   1.12G  40.6MB/s    in 35s     \n",
            "\n",
            "2023-04-02 18:30:31 (33.2 MB/s) - ‘H3K27me3.bam’ saved [1204886525/1204886525]\n",
            "\n",
            "--2023-04-02 18:30:31--  http://hgdownload.cse.ucsc.edu/goldenPath/hg19/encodeDCC/wgEncodeBroadHistone/wgEncodeBroadHistoneA549H3k36me3Dex100nmAlnRep1.bam\n",
            "Resolving hgdownload.cse.ucsc.edu (hgdownload.cse.ucsc.edu)... 128.114.119.163\n",
            "Connecting to hgdownload.cse.ucsc.edu (hgdownload.cse.ucsc.edu)|128.114.119.163|:80... connected.\n",
            "HTTP request sent, awaiting response... 200 OK\n",
            "Length: 1171206285 (1.1G) [application/octet-stream]\n",
            "Saving to: ‘H3K36me3.bam’\n",
            "\n",
            "H3K36me3.bam        100%[===================>]   1.09G  37.2MB/s    in 30s     \n",
            "\n",
            "2023-04-02 18:31:01 (37.4 MB/s) - ‘H3K36me3.bam’ saved [1171206285/1171206285]\n",
            "\n",
            "--2023-04-02 18:31:01--  http://hgdownload.cse.ucsc.edu/goldenPath/hg19/encodeDCC/wgEncodeBroadHistone/wgEncodeBroadHistoneA549H3k04me1Dex100nmAlnRep1.bam\n",
            "Resolving hgdownload.cse.ucsc.edu (hgdownload.cse.ucsc.edu)... 128.114.119.163\n",
            "Connecting to hgdownload.cse.ucsc.edu (hgdownload.cse.ucsc.edu)|128.114.119.163|:80... connected.\n",
            "HTTP request sent, awaiting response... 200 OK\n",
            "Length: 1457394253 (1.4G) [application/octet-stream]\n",
            "Saving to: ‘H3K04me1.bam’\n",
            "\n",
            "H3K04me1.bam        100%[===================>]   1.36G  40.5MB/s    in 36s     \n",
            "\n",
            "2023-04-02 18:31:38 (38.4 MB/s) - ‘H3K04me1.bam’ saved [1457394253/1457394253]\n",
            "\n",
            "--2023-04-02 18:31:38--  http://hgdownload.cse.ucsc.edu/goldenPath/hg19/encodeDCC/wgEncodeBroadHistone/wgEncodeBroadHistoneA549H3k04me2Dex100nmAlnRep1.bam\n",
            "Resolving hgdownload.cse.ucsc.edu (hgdownload.cse.ucsc.edu)... 128.114.119.163\n",
            "Connecting to hgdownload.cse.ucsc.edu (hgdownload.cse.ucsc.edu)|128.114.119.163|:80... connected.\n",
            "HTTP request sent, awaiting response... 200 OK\n",
            "Length: 1087535456 (1.0G) [application/octet-stream]\n",
            "Saving to: ‘H3K04me2.bam’\n",
            "\n",
            "H3K04me2.bam        100%[===================>]   1.01G  37.6MB/s    in 28s     \n",
            "\n",
            "2023-04-02 18:32:06 (36.7 MB/s) - ‘H3K04me2.bam’ saved [1087535456/1087535456]\n",
            "\n",
            "--2023-04-02 18:32:07--  http://hgdownload.cse.ucsc.edu/goldenPath/hg19/encodeDCC/wgEncodeBroadHistone/wgEncodeBroadHistoneA549H3k04me3Dex100nmAlnRep1.bam\n",
            "Resolving hgdownload.cse.ucsc.edu (hgdownload.cse.ucsc.edu)... 128.114.119.163\n",
            "Connecting to hgdownload.cse.ucsc.edu (hgdownload.cse.ucsc.edu)|128.114.119.163|:80... connected.\n",
            "HTTP request sent, awaiting response... 200 OK\n",
            "Length: 1107774312 (1.0G) [application/octet-stream]\n",
            "Saving to: ‘H3K04me3.bam’\n",
            "\n",
            "H3K04me3.bam        100%[===================>]   1.03G  38.7MB/s    in 29s     \n",
            "\n",
            "2023-04-02 18:32:36 (36.4 MB/s) - ‘H3K04me3.bam’ saved [1107774312/1107774312]\n",
            "\n",
            "--2023-04-02 18:32:36--  http://hgdownload.cse.ucsc.edu/goldenPath/hg19/encodeDCC/wgEncodeBroadHistone/wgEncodeBroadHistoneA549H3k79me2Dex100nmAlnRep1.bam\n",
            "Resolving hgdownload.cse.ucsc.edu (hgdownload.cse.ucsc.edu)... 128.114.119.163\n",
            "Connecting to hgdownload.cse.ucsc.edu (hgdownload.cse.ucsc.edu)|128.114.119.163|:80... connected.\n",
            "HTTP request sent, awaiting response... 200 OK\n",
            "Length: 964729136 (920M) [application/octet-stream]\n",
            "Saving to: ‘H3K79me2.bam’\n",
            "\n",
            "H3K79me2.bam        100%[===================>] 920.04M  40.7MB/s    in 24s     \n",
            "\n",
            "2023-04-02 18:33:00 (39.1 MB/s) - ‘H3K79me2.bam’ saved [964729136/964729136]\n",
            "\n",
            "--2023-04-02 18:33:00--  http://hgdownload.cse.ucsc.edu/goldenPath/hg19/encodeDCC/wgEncodeBroadHistone/wgEncodeBroadHistoneA549H3k09acEtoh02AlnRep1.bam\n",
            "Resolving hgdownload.cse.ucsc.edu (hgdownload.cse.ucsc.edu)... 128.114.119.163\n",
            "Connecting to hgdownload.cse.ucsc.edu (hgdownload.cse.ucsc.edu)|128.114.119.163|:80... connected.\n",
            "HTTP request sent, awaiting response... 200 OK\n",
            "Length: 1805271664 (1.7G) [application/octet-stream]\n",
            "Saving to: ‘H3K09ac.bam’\n",
            "\n",
            "H3K09ac.bam         100%[===================>]   1.68G  39.4MB/s    in 44s     \n",
            "\n",
            "2023-04-02 18:33:44 (38.8 MB/s) - ‘H3K09ac.bam’ saved [1805271664/1805271664]\n",
            "\n",
            "--2023-04-02 18:33:44--  http://hgdownload.cse.ucsc.edu/goldenPath/hg19/encodeDCC/wgEncodeBroadHistone/wgEncodeBroadHistoneA549H3k09me3Etoh02AlnRep1.bam\n",
            "Resolving hgdownload.cse.ucsc.edu (hgdownload.cse.ucsc.edu)... 128.114.119.163\n",
            "Connecting to hgdownload.cse.ucsc.edu (hgdownload.cse.ucsc.edu)|128.114.119.163|:80... connected.\n",
            "HTTP request sent, awaiting response... 200 OK\n",
            "Length: 3159610200 (2.9G) [application/octet-stream]\n",
            "Saving to: ‘H3K09me3.bam’\n",
            "\n",
            "H3K09me3.bam        100%[===================>]   2.94G  39.7MB/s    in 77s     \n",
            "\n",
            "2023-04-02 18:35:01 (39.3 MB/s) - ‘H3K09me3.bam’ saved [3159610200/3159610200]\n",
            "\n",
            "--2023-04-02 18:35:02--  http://hgdownload.cse.ucsc.edu/goldenPath/hg19/encodeDCC/wgEncodeBroadHistone/wgEncodeBroadHistoneA549H4k20me1Etoh02AlnRep1.bam\n",
            "Resolving hgdownload.cse.ucsc.edu (hgdownload.cse.ucsc.edu)... 128.114.119.163\n",
            "Connecting to hgdownload.cse.ucsc.edu (hgdownload.cse.ucsc.edu)|128.114.119.163|:80... connected.\n",
            "HTTP request sent, awaiting response... 200 OK\n",
            "Length: 1494698977 (1.4G) [application/octet-stream]\n",
            "Saving to: ‘H4K20me1.bam’\n",
            "\n",
            "H4K20me1.bam        100%[===================>]   1.39G  40.9MB/s    in 36s     \n",
            "\n",
            "2023-04-02 18:35:38 (39.4 MB/s) - ‘H4K20me1.bam’ saved [1494698977/1494698977]\n",
            "\n"
          ]
        }
      ]
    },
    {
      "cell_type": "code",
      "source": [
        "# Скачиваем контроль\n",
        "! wget http://hgdownload.cse.ucsc.edu/goldenPath/hg19/encodeDCC/wgEncodeBroadHistone/wgEncodeBroadHistoneA549ControlDex100nmAlnRep1.bam -O Control.bam"
      ],
      "metadata": {
        "colab": {
          "base_uri": "https://localhost:8080/"
        },
        "id": "ToZa32elOfml",
        "outputId": "d35b4cc4-52fb-423a-e932-8bf6bfbed8ec"
      },
      "execution_count": null,
      "outputs": [
        {
          "output_type": "stream",
          "name": "stdout",
          "text": [
            "--2023-04-02 18:35:38--  http://hgdownload.cse.ucsc.edu/goldenPath/hg19/encodeDCC/wgEncodeBroadHistone/wgEncodeBroadHistoneA549ControlDex100nmAlnRep1.bam\n",
            "Resolving hgdownload.cse.ucsc.edu (hgdownload.cse.ucsc.edu)... 128.114.119.163\n",
            "Connecting to hgdownload.cse.ucsc.edu (hgdownload.cse.ucsc.edu)|128.114.119.163|:80... connected.\n",
            "HTTP request sent, awaiting response... 200 OK\n",
            "Length: 1331192042 (1.2G) [application/octet-stream]\n",
            "Saving to: ‘Control.bam’\n",
            "\n",
            "Control.bam         100%[===================>]   1.24G  39.7MB/s    in 33s     \n",
            "\n",
            "2023-04-02 18:36:12 (38.3 MB/s) - ‘Control.bam’ saved [1331192042/1331192042]\n",
            "\n"
          ]
        }
      ]
    },
    {
      "cell_type": "markdown",
      "source": [
        "* Вручную создаем текстовый файл cellmarkfiletable.txt, в котором указываем название типа клеток, разных гистоновых меток, а также соответствующие .bam файлы для эксперимента и контроля. Один и тот же контрольный файл .bam может быть использован для всех экспериментов.\n",
        "\n",
        "* Более подробно о содержании файла cellmarkfiletable.txt можно посмотреть в руководстве пользователя ChromHMM\n",
        "\n",
        "* Файл cellmarkfiletable.txt добавляем в github репозиторий для отчета"
      ],
      "metadata": {
        "id": "asjMJ26h79SY"
      }
    },
    {
      "cell_type": "code",
      "source": [
        "modifications = [\"H3K27ac\",\n",
        "                 \"H3K27me3\",\n",
        "                 \"H3K36me3\",\n",
        "                 \"H3K04me1\",\n",
        "                 \"H3K04me2\",\n",
        "                 \"H3K04me3\",\n",
        "                 \"H3K79me2\",\n",
        "                 \"H3K09ac\",\n",
        "                 \"H3K09me3\",\n",
        "                 \"H4K20me1\",\n",
        "                 ]\n",
        "\n",
        "with open(f'cellmarkfiletable.txt', 'a') as file:\n",
        "  for modification in modifications:\n",
        "      file.write(f'A549\\t{modification}\\t{modification}.bam\\tControl.bam\\n')"
      ],
      "metadata": {
        "id": "t8xE7d4HQgvh"
      },
      "execution_count": 11,
      "outputs": []
    },
    {
      "cell_type": "markdown",
      "source": [
        "Запускаем ChromHMM с опцией BinarizeBam, чтобы конвертировать профили из ChIP-seq экспериментов (bam-файлы) в табличку из 0 и 1, т.е. чтобы сделать разбивку генома на условные интервалы (бины) длиной 200 п.о.\n",
        "Для 11 меток программа работает около 5 мин\n"
      ],
      "metadata": {
        "id": "WeoRL3rp728b"
      }
    },
    {
      "cell_type": "code",
      "source": [
        "!java -mx5000M -jar /content/ChromHMM/ChromHMM.jar BinarizeBam -b 200  /content/ChromHMM/CHROMSIZES/hg19.txt /content/ cellmarkfiletable.txt   binarizedData"
      ],
      "metadata": {
        "colab": {
          "base_uri": "https://localhost:8080/"
        },
        "id": "GcVBvuQZfzb8",
        "outputId": "c6641384-6d93-43c6-c127-23a1be4a8114"
      },
      "execution_count": 12,
      "outputs": [
        {
          "output_type": "stream",
          "name": "stdout",
          "text": [
            "Writing to file binarizedData/A549_chr1_binary.txt\n",
            "Writing to file binarizedData/A549_chr2_binary.txt\n",
            "Writing to file binarizedData/A549_chr3_binary.txt\n",
            "Writing to file binarizedData/A549_chr4_binary.txt\n",
            "Writing to file binarizedData/A549_chr5_binary.txt\n",
            "Writing to file binarizedData/A549_chr6_binary.txt\n",
            "Writing to file binarizedData/A549_chr7_binary.txt\n",
            "Writing to file binarizedData/A549_chrX_binary.txt\n",
            "Writing to file binarizedData/A549_chr8_binary.txt\n",
            "Writing to file binarizedData/A549_chr9_binary.txt\n",
            "Writing to file binarizedData/A549_chr10_binary.txt\n",
            "Writing to file binarizedData/A549_chr11_binary.txt\n",
            "Writing to file binarizedData/A549_chr12_binary.txt\n",
            "Writing to file binarizedData/A549_chr13_binary.txt\n",
            "Writing to file binarizedData/A549_chr14_binary.txt\n",
            "Writing to file binarizedData/A549_chr15_binary.txt\n",
            "Writing to file binarizedData/A549_chr16_binary.txt\n",
            "Writing to file binarizedData/A549_chr17_binary.txt\n",
            "Writing to file binarizedData/A549_chr18_binary.txt\n",
            "Writing to file binarizedData/A549_chr20_binary.txt\n",
            "Writing to file binarizedData/A549_chrY_binary.txt\n",
            "Writing to file binarizedData/A549_chr19_binary.txt\n",
            "Writing to file binarizedData/A549_chr22_binary.txt\n",
            "Writing to file binarizedData/A549_chr21_binary.txt\n",
            "Writing to file binarizedData/A549_chrM_binary.txt\n"
          ]
        }
      ]
    },
    {
      "cell_type": "markdown",
      "source": [
        "Запускаем ChromHMM с опцией LearnModel (см. руководство пользователя), которая автоматически определит параметры N разных эпигенетических типов с наиболее выраженными наборами гистоновых меток и присвоит каждому геномному интервалу определенный эпигенетический тип. Количество разных эпигенетических типов (или состояний) выбираете сами (например 10 штук).\n",
        "Не забудьте, что мы работаем с версией референсного генома человека hg19\n",
        "Для 11 меток программа работает около 10 минут\n"
      ],
      "metadata": {
        "id": "Yo11TtNG8SXU"
      }
    },
    {
      "cell_type": "code",
      "source": [
        "!java -mx5000M -jar /content/ChromHMM/ChromHMM.jar LearnModel -b 200 /content/binarizedData/ /content/data 15 hg19"
      ],
      "metadata": {
        "colab": {
          "base_uri": "https://localhost:8080/"
        },
        "id": "aixEIntSUDFk",
        "outputId": "575b637a-d73e-4a5b-f1bb-5deb3454b302"
      },
      "execution_count": 13,
      "outputs": [
        {
          "output_type": "stream",
          "name": "stdout",
          "text": [
            "Writing to file /content/data/transitions_15.txt\n",
            "Writing to file /content/data/emissions_15.txt\n",
            "Writing to file /content/data/emissions_15.svg\n",
            "Writing to file /content/data/emissions_15.png\n",
            "Writing to file /content/data/transitions_15.png\n",
            "Writing to file /content/data/transitions_15.svg\n",
            "Writing to file /content/data/model_15.txt\n",
            " Iteration  Estimated Log Likelihood     Change    Total Time (secs)\n",
            "         1             -11824747.261          -                 28.7\n",
            "         2             -10109169.779 1715577.482                 56.4\n",
            "         3              -9658984.956 450184.824                 80.5\n",
            "         4              -9435565.212 223419.744                102.3\n",
            "         5              -9341831.714  93733.497                123.0\n",
            "         6              -9307841.253  33990.461                144.4\n",
            "         7              -9295257.958  12583.295                168.7\n",
            "         8              -9290052.592   5205.366                191.2\n",
            "         9              -9287596.004   2456.588                213.4\n",
            "        10              -9286275.685   1320.319                238.6\n",
            "        11              -9285476.889    798.795                261.6\n",
            "        12              -9284937.643    539.246                284.6\n",
            "        13              -9284533.349    404.295                307.5\n",
            "        14              -9284200.368    332.981                330.4\n",
            "        15              -9283901.222    299.146                352.1\n",
            "        16              -9283609.357    291.865                375.0\n",
            "        17              -9283306.050    303.307                399.0\n",
            "        18              -9282969.225    336.825                421.9\n",
            "        19              -9282551.357    417.868                444.7\n",
            "        20              -9281904.137    647.220                466.6\n",
            "        21              -9280803.712   1100.426                489.6\n",
            "        22              -9279147.516   1656.196                512.4\n",
            "        23              -9277305.585   1841.931                539.1\n",
            "        24              -9275678.881   1626.704                561.8\n",
            "        25              -9274390.016   1288.865                584.9\n",
            "        26              -9273405.014    985.002                607.8\n",
            "        27              -9272651.551    753.463                630.6\n",
            "        28              -9272067.991    583.560                653.5\n",
            "        29              -9271604.615    463.376                675.5\n",
            "        30              -9271224.208    380.407                698.2\n",
            "        31              -9270899.814    324.394                721.1\n",
            "        32              -9270612.334    287.481                743.9\n",
            "        33              -9270348.116    264.218                768.0\n",
            "        34              -9270096.928    251.188                789.9\n",
            "        35              -9269851.291    245.637                812.7\n",
            "        36              -9269606.073    245.218                835.9\n",
            "        37              -9269356.731    249.342                858.9\n",
            "        38              -9269095.627    261.103                881.1\n",
            "        39              -9268808.510    287.117                903.4\n",
            "        40              -9268476.658    331.852                926.1\n",
            "        41              -9268081.012    395.646                948.8\n",
            "        42              -9267604.110    476.902                971.2\n",
            "        43              -9267057.090    547.020                993.0\n",
            "        44              -9266460.249    596.841               1016.1\n",
            "        45              -9265746.177    714.072               1038.8\n",
            "        46              -9264614.258   1131.919               1061.6\n",
            "        47              -9262248.342   2365.916               1083.2\n",
            "        48              -9256944.469   5303.873               1106.0\n",
            "        49              -9247942.422   9002.047               1128.8\n",
            "        50              -9238223.980   9718.442               1153.2\n",
            "        51              -9230296.861   7927.119               1176.0\n",
            "        52              -9226705.619   3591.241               1197.8\n",
            "        53              -9225395.026   1310.594               1220.7\n",
            "        54              -9224773.986    621.040               1243.7\n",
            "        55              -9224430.837    343.149               1266.7\n",
            "        56              -9224222.222    208.615               1289.2\n",
            "        57              -9224086.853    135.370               1311.6\n",
            "        58              -9223993.770     93.082               1334.7\n",
            "        59              -9223925.482     68.288               1357.7\n",
            "        60              -9223871.391     54.091               1380.8\n",
            "        61              -9223824.857     46.534               1403.2\n",
            "        62              -9223781.812     43.045               1425.8\n",
            "        63              -9223740.108     41.704               1448.9\n",
            "        64              -9223699.112     40.996               1471.9\n",
            "        65              -9223659.295     39.817               1494.9\n",
            "        66              -9223621.711     37.584               1516.7\n",
            "        67              -9223587.443     34.268               1539.6\n",
            "        68              -9223557.204     30.239               1562.5\n",
            "        69              -9223531.198     26.006               1585.4\n",
            "        70              -9223509.199     21.999               1607.8\n",
            "        71              -9223490.743     18.456               1630.5\n",
            "        72              -9223475.296     15.447               1653.6\n",
            "        73              -9223462.351     12.945               1676.5\n",
            "        74              -9223451.474     10.877               1699.5\n",
            "        75              -9223442.308      9.166               1721.2\n",
            "        76              -9223434.562      7.746               1744.2\n",
            "        77              -9223427.994      6.568               1767.1\n",
            "        78              -9223422.416      5.578               1789.9\n",
            "        79              -9223417.663      4.754               1812.3\n",
            "        80              -9223413.599      4.064               1834.5\n",
            "        81              -9223410.115      3.484               1857.3\n",
            "        82              -9223407.117      2.998               1880.2\n",
            "        83              -9223404.528      2.588               1903.1\n",
            "        84              -9223402.286      2.242               1924.8\n",
            "        85              -9223400.336      1.950               1947.9\n",
            "        86              -9223398.635      1.701               1971.1\n",
            "        87              -9223397.146      1.490               1994.1\n",
            "        88              -9223395.838      1.308               2017.2\n",
            "        89              -9223394.684      1.153               2039.1\n",
            "        90              -9223393.666      1.019               2062.2\n",
            "        91              -9223392.762      0.904               2085.2\n",
            "        92              -9223391.958      0.803               2108.4\n",
            "        93              -9223391.242      0.716               2131.5\n",
            "        94              -9223390.602      0.640               2153.5\n",
            "        95              -9223390.028      0.574               2176.6\n",
            "        96              -9223389.512      0.516               2199.6\n",
            "        97              -9223389.049      0.463               2222.6\n",
            "        98              -9223388.631      0.418               2245.1\n",
            "        99              -9223388.252      0.378               2267.5\n",
            "       100              -9223387.910      0.342               2290.6\n",
            "       101              -9223387.599      0.311               2313.6\n",
            "       102              -9223387.317      0.282               2336.7\n",
            "       103              -9223387.060      0.257               2359.2\n",
            "       104              -9223386.826      0.234               2382.0\n",
            "       105              -9223386.612      0.214               2405.1\n",
            "       106              -9223386.417      0.196               2428.2\n",
            "       107              -9223386.238      0.179               2451.3\n",
            "       108              -9223386.073      0.164               2473.8\n",
            "       109              -9223385.923      0.151               2496.4\n",
            "       110              -9223385.784      0.138               2519.5\n",
            "       111              -9223385.657      0.127               2542.5\n",
            "       112              -9223385.539      0.117               2565.6\n",
            "       113              -9223385.431      0.108               2587.7\n",
            "       114              -9223385.331      0.100               2610.6\n",
            "       115              -9223385.239      0.092               2633.7\n",
            "       116              -9223385.153      0.086               2656.8\n",
            "       117              -9223385.074      0.079               2679.9\n",
            "       118              -9223385.000      0.073               2701.8\n",
            "       119              -9223384.932      0.068               2724.8\n",
            "       120              -9223384.869      0.063               2747.9\n",
            "       121              -9223384.810      0.059               2770.9\n",
            "       122              -9223384.756      0.054               2793.9\n",
            "       123              -9223384.705      0.051               2815.8\n",
            "       124              -9223384.657      0.048               2838.9\n",
            "       125              -9223384.613      0.044               2862.0\n",
            "       126              -9223384.572      0.041               2885.2\n",
            "       127              -9223384.534      0.038               2908.3\n",
            "       128              -9223384.498      0.036               2930.2\n",
            "       129              -9223384.464      0.033               2953.3\n",
            "       130              -9223384.433      0.032               2976.4\n",
            "       131              -9223384.403      0.029               2999.6\n",
            "       132              -9223384.376      0.027               3022.7\n",
            "       133              -9223384.350      0.026               3044.6\n",
            "       134              -9223384.326      0.024               3067.8\n",
            "       135              -9223384.304      0.022               3090.9\n",
            "       136              -9223384.282      0.021               3114.2\n",
            "       137              -9223384.263      0.020               3137.2\n",
            "       138              -9223384.244      0.019               3159.1\n",
            "       139              -9223384.226      0.018               3182.3\n",
            "       140              -9223384.210      0.017               3205.3\n",
            "       141              -9223384.194      0.016               3228.5\n",
            "       142              -9223384.180      0.014               3252.8\n",
            "       143              -9223384.166      0.014               3276.5\n",
            "       144              -9223384.153      0.013               3299.3\n",
            "       145              -9223384.141      0.012               3322.5\n",
            "       146              -9223384.129      0.012               3345.7\n",
            "       147              -9223384.118      0.011               3369.3\n",
            "       148              -9223384.108      0.010               3391.9\n",
            "       149              -9223384.099      0.010               3414.4\n",
            "       150              -9223384.090      0.009               3437.5\n",
            "       151              -9223384.081      0.009               3460.6\n",
            "       152              -9223384.073      0.008               3483.7\n",
            "       153              -9223384.065      0.008               3506.0\n",
            "       154              -9223384.058      0.008               3528.8\n",
            "       155              -9223384.051      0.007               3551.7\n",
            "       156              -9223384.044      0.006               3574.7\n",
            "       157              -9223384.038      0.007               3597.7\n",
            "       158              -9223384.032      0.006               3619.6\n",
            "       159              -9223384.026      0.006               3642.8\n",
            "       160              -9223384.020      0.006               3665.9\n",
            "       161              -9223384.015      0.006               3688.9\n",
            "       162              -9223384.010      0.005               3711.9\n",
            "       163              -9223384.010     -0.001               3733.9\n",
            "Writing to file /content/data/A549_15_segments.bed\n",
            "Writing to file /content/data/A549_15_dense.bed\n",
            "Writing to file /content/data/A549_15_expanded.bed\n",
            "Writing to file /content/data/A549_15_overlap.txt\n",
            "Writing to file /content/data/A549_15_overlap.png\n",
            "Writing to file /content/data/A549_15_overlap.svg\n",
            "Writing to file /content/data/A549_15_RefSeqTSS_neighborhood.txt\n",
            "Writing to file /content/data/A549_15_RefSeqTSS_neighborhood.png\n",
            "Writing to file /content/data/A549_15_RefSeqTSS_neighborhood.svg\n",
            "Writing to file /content/data/A549_15_RefSeqTES_neighborhood.txt\n",
            "Writing to file /content/data/A549_15_RefSeqTES_neighborhood.png\n",
            "Writing to file /content/data/A549_15_RefSeqTES_neighborhood.svg\n",
            "Warning could not automatically open in a browser /content/data/webpage_15.html\n"
          ]
        }
      ]
    },
    {
      "cell_type": "markdown",
      "source": [
        "В результате выполнения команды LearnModel будет создан набор файлов (в том числе HTML страничка) в папке выдачи, которая была указана при запуске. Скачиваем эту папку себе на копьютер и открываем HTML файл.\n",
        "\n",
        "Дальнейшие инстркции -- см. в описании ДЗ"
      ],
      "metadata": {
        "id": "7yuCmmw-gsFC"
      }
    },
    {
      "cell_type": "code",
      "source": [
        "!zip -r \"/content/data.zip\" \"/content/data\""
      ],
      "metadata": {
        "colab": {
          "base_uri": "https://localhost:8080/"
        },
        "id": "J3kEVDDFmTqw",
        "outputId": "d6781005-495e-46fe-f3cf-b38cfc84b5be"
      },
      "execution_count": 15,
      "outputs": [
        {
          "output_type": "stream",
          "name": "stdout",
          "text": [
            "  adding: content/data/ (stored 0%)\n",
            "  adding: content/data/A549_15_RefSeqTSS_neighborhood.txt (deflated 52%)\n",
            "  adding: content/data/A549_15_segments.bed (deflated 79%)\n",
            "  adding: content/data/webpage_15.html (deflated 71%)\n",
            "  adding: content/data/transitions_15.png (deflated 25%)\n",
            "  adding: content/data/A549_15_RefSeqTSS_neighborhood.png (deflated 35%)\n",
            "  adding: content/data/A549_15_RefSeqTSS_neighborhood.svg (deflated 73%)\n",
            "  adding: content/data/emissions_15.svg (deflated 72%)\n",
            "  adding: content/data/A549_15_overlap.svg (deflated 70%)\n",
            "  adding: content/data/transitions_15.svg (deflated 69%)\n",
            "  adding: content/data/model_15.txt (deflated 72%)\n",
            "  adding: content/data/A549_15_RefSeqTES_neighborhood.txt (deflated 56%)\n",
            "  adding: content/data/A549_15_RefSeqTES_neighborhood.svg (deflated 73%)\n",
            "  adding: content/data/A549_15_RefSeqTES_neighborhood.png (deflated 41%)\n",
            "  adding: content/data/A549_15_expanded.bed (deflated 70%)\n",
            "  adding: content/data/A549_15_overlap.txt (deflated 49%)\n",
            "  adding: content/data/emissions_15.png (deflated 26%)\n",
            "  adding: content/data/transitions_15.txt (deflated 51%)\n",
            "  adding: content/data/A549_15_dense.bed (deflated 84%)\n",
            "  adding: content/data/A549_15_overlap.png (deflated 22%)\n",
            "  adding: content/data/emissions_15.txt (deflated 49%)\n"
          ]
        }
      ]
    },
    {
      "cell_type": "markdown",
      "source": [
        "## Бонус"
      ],
      "metadata": {
        "id": "9D53_6if32Xm"
      }
    },
    {
      "cell_type": "code",
      "source": [
        "names = ['',\n",
        "         'Repressed',\n",
        "         'Heterochromatin',\n",
        "         'Heterochromatin',\n",
        "         'Weak_transcribed',\n",
        "         'Weak_transcribed',\n",
        "         'Weak_transcribed',\n",
        "         'Weak_enhancer',\n",
        "         'Weak_enhancer',\n",
        "         'Weak_enhancer',\n",
        "         'Strong_enhancer',\n",
        "         'Active_promoter',\n",
        "         'Active_promoter',\n",
        "         'Strong_enhancer',\n",
        "         'Weak_enhancer',\n",
        "         'Weak_enhancer']"
      ],
      "metadata": {
        "id": "AZskzPcHtH1c"
      },
      "execution_count": 12,
      "outputs": []
    },
    {
      "cell_type": "code",
      "source": [
        "with open(f'A549_15_dense.bed', 'r') as file1:\n",
        "    lines = file1.readlines()\n",
        "\n",
        "for i in range(5):\n",
        "    print(lines[i])"
      ],
      "metadata": {
        "colab": {
          "base_uri": "https://localhost:8080/"
        },
        "id": "lkndR2WrvA4L",
        "outputId": "de75ab66-e6ef-4939-b5e7-e2176e715d90"
      },
      "execution_count": 15,
      "outputs": [
        {
          "output_type": "stream",
          "name": "stdout",
          "text": [
            "track name=\"A549_15\" description=\"A549_15 (Emission ordered)\" visibility=1 itemRgb=\"On\"\n",
            "\n",
            "chr10\t0\t62400\t2\t0\t.\t0\t62400\t0,153,204\n",
            "\n",
            "chr10\t62400\t63800\t1\t0\t.\t62400\t63800\t0,0,255\n",
            "\n",
            "chr10\t63800\t71200\t2\t0\t.\t63800\t71200\t0,153,204\n",
            "\n",
            "chr10\t71200\t72000\t1\t0\t.\t71200\t72000\t0,0,255\n",
            "\n"
          ]
        }
      ]
    },
    {
      "cell_type": "code",
      "source": [
        "for i in range(1, len(lines)):\n",
        "    new_line = lines[i].split('\\t')\n",
        "    new_line[3] += '_' + names[int(new_line[3])]\n",
        "    new_line = '\\t'.join(new_line)\n",
        "    lines[i] = new_line\n",
        "\n",
        "with open(f'A549_15_dense_with_names.bed', 'a') as file2:\n",
        "    for line in lines:\n",
        "        file2.write(line)"
      ],
      "metadata": {
        "id": "5bIa2EkGvAQk"
      },
      "execution_count": 16,
      "outputs": []
    },
    {
      "cell_type": "code",
      "source": [
        "with open(f'A549_15_dense_with_names.bed', 'r') as file3:\n",
        "    lines = file3.readlines()\n",
        "\n",
        "for i in range(5):\n",
        "    print(lines[i])"
      ],
      "metadata": {
        "colab": {
          "base_uri": "https://localhost:8080/"
        },
        "id": "Weem53Ow2MGb",
        "outputId": "5a89940a-65d5-4b6e-dff1-00fa9a7b504e"
      },
      "execution_count": 20,
      "outputs": [
        {
          "output_type": "stream",
          "name": "stdout",
          "text": [
            "track name=\"A549_15\" description=\"A549_15 (Emission ordered)\" visibility=1 itemRgb=\"On\"\n",
            "\n",
            "chr10\t0\t62400\t2_Heterochromatin\t0\t.\t0\t62400\t0,153,204\n",
            "\n",
            "chr10\t62400\t63800\t1_Repressed\t0\t.\t62400\t63800\t0,0,255\n",
            "\n",
            "chr10\t63800\t71200\t2_Heterochromatin\t0\t.\t63800\t71200\t0,153,204\n",
            "\n",
            "chr10\t71200\t72000\t1_Repressed\t0\t.\t71200\t72000\t0,0,255\n",
            "\n"
          ]
        }
      ]
    }
  ]
}